{
  "nbformat": 4,
  "nbformat_minor": 0,
  "metadata": {
    "colab": {
      "provenance": [],
      "authorship_tag": "ABX9TyO9d8UT70yuNuxJoeqqIZ+9",
      "include_colab_link": true
    },
    "kernelspec": {
      "name": "python3",
      "display_name": "Python 3"
    },
    "language_info": {
      "name": "python"
    }
  },
  "cells": [
    {
      "cell_type": "markdown",
      "metadata": {
        "id": "view-in-github",
        "colab_type": "text"
      },
      "source": [
        "<a href=\"https://colab.research.google.com/github/2008pau/Proyecto-operaciones/blob/main/Simulador_ciberseguridad.ipynb\" target=\"_parent\"><img src=\"https://colab.research.google.com/assets/colab-badge.svg\" alt=\"Open In Colab\"/></a>"
      ]
    },
    {
      "cell_type": "code",
      "source": [
        "print(\"barrera 1\")\n",
        "# Explicación de  IP\n",
        "\n",
        "print(\"Una IP es el número que identifica un dispositivo en una red,es la direccion en donde se realiza una accion cuando se conecta un dispostivo \")\n",
        "\n",
        "# Lista de IPs maliciosas, en este caso solo utilizaremos 3 para la simulacion\n",
        "listanegra = [\"202.54.1.1\", \"185.232.52.10\", \"77.88.5.5\"]\n",
        "\n",
        "print(\"Probemos una IP manualmente :)\")\n",
        "\n",
        "# Pedimos al usuario ingresar una IP\n",
        "u = input(\" Ingresa una dirección IP \")\n",
        "\n",
        "if u in listanegra:\n",
        "    print(\" La IP es MALICIOSA\")\n",
        "    print(\"Esta IP ha sido reportada en actividades ilegales como intentos de hackeo,escaneo de puertos y acceso no autorizado en redes gubernamentales o privadas\")\n",
        "    print(\" Si esta IP logra ingresar al sistema podría ser riesgoso, podrian obtener informacion, instalar un software espia , etc\")\n",
        "\n",
        "else:\n",
        "    print(\"La IP no está en la lista de IPs maliciosas.\")\n",
        "    print(\"No ha sido reportada ni detectada como una amenaza conocida.\")\n",
        "    print(\"Sin embargo, siempre es buena práctica monitorear comportamientos sospechosos.\")\n",
        "\n",
        "print(\"Análisis finalizado\")\n"
      ],
      "metadata": {
        "colab": {
          "base_uri": "https://localhost:8080/"
        },
        "id": "dpdG2iCxt86d",
        "outputId": "62856f8a-d04d-4d1b-8ed3-8076ed612b60"
      },
      "execution_count": 2,
      "outputs": [
        {
          "output_type": "stream",
          "name": "stdout",
          "text": [
            "barrera 1\n",
            "Una IP es el número que identifica un dispositivo en una red,es la direccion en donde se realiza una accion cuando se conecta un dispostivo \n",
            "Probemos una IP manualmente :)\n",
            " Ingresa una dirección IP 202.54.1\n",
            "La IP no está en la lista de IPs maliciosas.\n",
            "No ha sido reportada ni detectada como una amenaza conocida.\n",
            "Sin embargo, siempre es buena práctica monitorear comportamientos sospechosos.\n",
            "Análisis finalizado\n"
          ]
        }
      ]
    },
    {
      "cell_type": "code",
      "source": [
        "print(\"barrera 2\")\n",
        "# Input\n",
        "inte = int(input(\"Ingresa la cantidad de intentos de acceso detectados: \"))\n",
        "hora = int(input(\" Ingresa la hora del acceso (en formato 24h, ej: 3, 14, 23): \"))\n",
        "\n",
        "# Evaluamos\n",
        "sospechoso = False\n",
        "if inte > 5:\n",
        "    print(\"ALERTA: Demasiados intentos de acceso\")\n",
        "    sospechoso = True\n",
        "if hora < 5 or hora > 22:\n",
        "    print(\"ADVERTENCIA: Intento de acceso en horario extraño \")\n",
        "    sospechoso = True\n",
        "\n",
        "# Respuesta\n",
        "if sospechoso:\n",
        "    print(\"BLOQUEADO:comportamiento sospechoso\")\n",
        "    print(\"Un atacante puede intentar múltiples accesos seguidos o aprovechar horas de poca vigilancia para atacar\")\n",
        "\n",
        "else:\n",
        "    print(\"PERMITIDO: sin comportamiento sospechoso\")\n",
        "    print(\"Los intentos y el horario están dentro del rango normal.\")\n"
      ],
      "metadata": {
        "colab": {
          "base_uri": "https://localhost:8080/"
        },
        "id": "S3N6SKrW1U0S",
        "outputId": "74dbfc07-b86a-47d5-c037-ad7f22e59f00"
      },
      "execution_count": null,
      "outputs": [
        {
          "output_type": "stream",
          "name": "stdout",
          "text": [
            "barrera 2\n",
            "Ingresa la cantidad de intentos de acceso detectados: 12\n",
            " Ingresa la hora del acceso (en formato 24h, ej: 3, 14, 23): 23\n",
            "ALERTA: Demasiados intentos de acceso\n",
            "ADVERTENCIA: Intento de acceso en horario extraño \n",
            "BLOQUEADO:comportamiento sospechoso\n",
            "Un atacante puede intentar múltiples accesos seguidos o aprovechar horas de poca vigilancia para atacar\n"
          ]
        }
      ]
    },
    {
      "cell_type": "code",
      "source": [
        "print(\"Barrera 3\")\n",
        "usuarios = {\"123\": \"345\"}\n",
        "codigo1 = \"567\"\n",
        "\n",
        "usuario = input(\"Usuario: \")\n",
        "clave = input(\"Contraseña: \")\n",
        "\n",
        "if usuario in usuarios and usuarios[usuario] == clave:\n",
        "    print(\"Contraseña correcta.\")\n",
        "    codigo = input(\" Ingresa el código: \")\n",
        "    if codigo == codigo1:\n",
        "        print(\" Acceso concedido con doble autenticación.\")\n",
        "    else:\n",
        "        print(\"Código incorrecto.\")\n",
        "else:\n",
        "    print(\"Usuario o contraseña incorrecta.\")\n"
      ],
      "metadata": {
        "colab": {
          "base_uri": "https://localhost:8080/"
        },
        "id": "C6JfQaMg4cqx",
        "outputId": "3b2ea34f-45aa-4263-e067-a39bedc65b9c"
      },
      "execution_count": null,
      "outputs": [
        {
          "output_type": "stream",
          "name": "stdout",
          "text": [
            "Barrera 3\n",
            "Usuario: 123\n",
            "Contraseña: 345\n",
            "Contraseña correcta.\n",
            " Ingresa el código: 567\n",
            " Acceso concedido con doble autenticación.\n"
          ]
        }
      ]
    },
    {
      "cell_type": "code",
      "source": [
        "print (\"simulacion 5\")\n",
        "evento= input(\"¿Se detectó un ataque?(si/no): \")\n",
        "\n",
        "if evento == \"si\":\n",
        "    print(\"Acceso bloqueado\")\n",
        "    print(\"Notificando al equipo de seguridad\")\n",
        "    print(\"Redireccionando tráfico por ruta alternativa segura\")\n",
        "else:\n",
        "    print(\"Sistema funcionando normalmente\")\n"
      ],
      "metadata": {
        "colab": {
          "base_uri": "https://localhost:8080/"
        },
        "id": "PBn323W-_kHT",
        "outputId": "40fdeaef-a58a-4133-c720-4f73660f3809"
      },
      "execution_count": null,
      "outputs": [
        {
          "output_type": "stream",
          "name": "stdout",
          "text": [
            "simulacion 5\n",
            "¿Se detectó un ataque?(si/no): si\n",
            "Acceso bloqueado\n",
            "Notificando al equipo de seguridad\n",
            "Redireccionando tráfico por ruta alternativa segura\n"
          ]
        }
      ]
    }
  ]
}